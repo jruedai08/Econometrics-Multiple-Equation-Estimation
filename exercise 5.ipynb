{
 "cells": [
  {
   "cell_type": "code",
   "execution_count": 1,
   "id": "c97ef12b",
   "metadata": {
    "tags": []
   },
   "outputs": [],
   "source": [
    "%matplotlib inline\n",
    "import numpy as np\n",
    "from scipy.stats import multivariate_normal\n",
    "from scipy.linalg import pinv\n",
    "\n",
    "# Set the number of observations (N), number of dependent variables (k), and number of independent variables (p)\n",
    "N = 1000\n",
    "k = 3\n",
    "p = 2\n",
    "\n",
    "# Mean vector and covariance matrix for the multivariate normal distribution\n",
    "mu = [0] * k\n",
    "Sigma = [[1, 0.5, 0], [0.5, 2, 0], [0, 0, 3]]\n",
    "\n",
    "# Define the multivariate normal distributions for T and u\n",
    "T_distribution = multivariate_normal(mean=mu, cov=Sigma)\n",
    "u_distribution = multivariate_normal(mean=np.zeros(k), cov=np.eye(k) * 0.2)\n",
    "\n",
    "# Generate samples for T and u\n",
    "T_sample = T_distribution.rvs(size=N)\n",
    "u_sample = u_distribution.rvs(size=N)  # u is now N x k\n",
    "\n",
    "# Generate a random matrix D for the dependency of X on T\n",
    "D = np.random.rand(k, p)\n",
    "\n",
    "# Generate the design matrix X (non-linear dependence on T)\n",
    "X = np.power(T_sample, 3) @ D\n",
    "\n",
    "# Generate the true beta coefficients for simulation purposes\n",
    "beta_true = np.array([[0.5], [1]])\n",
    "\n",
    "# Generate the response matrix y (since we have k variables)\n",
    "y = X @ beta_true + u_sample"
   ]
  },
  {
   "cell_type": "code",
   "execution_count": 2,
   "id": "d7344173-0aae-47d5-9e7f-4844e7448ac0",
   "metadata": {
    "tags": []
   },
   "outputs": [
    {
     "name": "stdout",
     "output_type": "stream",
     "text": [
      "Estimated beta coefficients:\n",
      " [[0.50124262 0.49704119 0.50122804]\n",
      " [0.99909286 0.99926705 1.00212098]]\n"
     ]
    }
   ],
   "source": [
    "# Now let's estimate the beta coefficients using the simulated data (X, y)\n",
    "\n",
    "# We will use the np.linalg.lstsq function to estimate beta\n",
    "# This function solves the equation a x = b by computing a vector x that minimizes the Euclidean 2-norm || b - a x ||^2\n",
    "beta_estimated, residuals, rank, s = np.linalg.lstsq(X, y, rcond=None)\n",
    "\n",
    "# Print the estimated beta coefficients\n",
    "print(\"Estimated beta coefficients:\\n\", beta_estimated)"
   ]
  },
  {
   "cell_type": "code",
   "execution_count": 3,
   "id": "3d8ce599-3cdd-43da-84a5-df26e0348b50",
   "metadata": {
    "tags": []
   },
   "outputs": [
    {
     "name": "stdout",
     "output_type": "stream",
     "text": [
      "Covariance matrix of estimated beta coefficients:\n",
      " [[ 3.61988050e-06 -5.08930921e-07]\n",
      " [-5.08930921e-07  1.74038712e-06]]\n"
     ]
    }
   ],
   "source": [
    "# Calculate the residuals as the difference between the observed and predicted y\n",
    "residuals = y - X @ beta_estimated\n",
    "\n",
    "# Calculate the variance of the residuals\n",
    "residual_var = residuals.var(ddof=1)  # ddof=1 provides an unbiased estimator by dividing by N-1\n",
    "\n",
    "# Calculate and print the covariance matrix of the estimated beta coefficients\n",
    "cov_beta = residual_var * np.linalg.inv(X.T @ X)\n",
    "print(\"Covariance matrix of estimated beta coefficients:\\n\", cov_beta)"
   ]
  }
 ],
 "metadata": {
  "kernelspec": {
   "display_name": "Python 3 (ipykernel)",
   "language": "python",
   "name": "python3"
  },
  "language_info": {
   "codemirror_mode": {
    "name": "ipython",
    "version": 3
   },
   "file_extension": ".py",
   "mimetype": "text/x-python",
   "name": "python",
   "nbconvert_exporter": "python",
   "pygments_lexer": "ipython3",
   "version": "3.11.4"
  }
 },
 "nbformat": 4,
 "nbformat_minor": 5
}
