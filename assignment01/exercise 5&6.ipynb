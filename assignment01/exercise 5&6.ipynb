{
 "cells": [
  {
   "cell_type": "markdown",
   "id": "1ccff0c9-a6d3-4f43-894f-fd1112bf3632",
   "metadata": {},
   "source": [
    "## Exercise 5"
   ]
  },
  {
   "cell_type": "code",
   "execution_count": 14,
   "id": "cdb2cab6-afa5-4885-a2f7-fc06830c9dc7",
   "metadata": {
    "tags": []
   },
   "outputs": [],
   "source": [
    "import numpy as np\n",
    "from scipy.stats import multivariate_normal\n",
    "from scipy.linalg import pinv\n",
    "import random\n",
    "random.seed(123)"
   ]
  },
  {
   "cell_type": "markdown",
   "id": "f093dfd0-cabc-4655-ba73-01433c186c4d",
   "metadata": {},
   "source": [
    "First we generate the distribution of $T$ and $u$."
   ]
  },
  {
   "cell_type": "code",
   "execution_count": 31,
   "id": "1e8b572d-102f-4ce5-9db1-5859810c8e52",
   "metadata": {
    "tags": []
   },
   "outputs": [],
   "source": [
    "# Set the number of observations (N), number of dependent variables (k), and number of independent variables (p)\n",
    "k = 3\n",
    "m = 4\n",
    "p = 2\n",
    "\n",
    "# Mean vector and covariance matrix for the multivariate normal distribution\n",
    "mu = [0] * m\n",
    "Sigma = [[1, 0.5, 0, 0],\n",
    "         [0.5, 2, 0, 1],\n",
    "         [0, 0, 3, 0],\n",
    "        [0, 0, 0, 1]]\n",
    "\n",
    "# Define the multivariate normal distributions for T and u\n",
    "T_distribution = multivariate_normal(mean=mu, cov=Sigma)\n",
    "u_distribution = multivariate_normal(mean=np.zeros(k), cov=np.eye(k) * 0.2)"
   ]
  },
  {
   "cell_type": "markdown",
   "id": "548c5fbb-1fde-4b74-b458-1f1d4e1161f9",
   "metadata": {},
   "source": [
    "We genenrate $X$ as $X=T^3D + uD'$, where $D$ is an $m\\times p$ matrix, $D'$ is an $k\\times p$ matrix."
   ]
  },
  {
   "cell_type": "code",
   "execution_count": 32,
   "id": "c97ef12b",
   "metadata": {
    "tags": []
   },
   "outputs": [],
   "source": [
    "# observations realization\n",
    "N = 1000\n",
    "\n",
    "# Generate samples for T and u\n",
    "T = T_distribution.rvs(size=N)\n",
    "u = u_distribution.rvs(size=N)  # u is now N x k\n",
    "\n",
    "# Generate a random matrix D for the dependency of X on T\n",
    "D = np.random.rand(m,p)\n",
    "D1 = np.random.rand(k,p)\n",
    "\n",
    "# Generate the design matrix X (non-linear dependence on T)\n",
    "X = np.power(T, 3) @ D + u @ D1\n",
    "\n",
    "# Generate the true beta coefficients for simulation purposes\n",
    "beta_true = np.array([[0.5,2,1.5], [1,0.5,3]])\n",
    "\n",
    "# Generate the response matrix y (since we have k variables)\n",
    "y = X @ beta_true + u"
   ]
  },
  {
   "cell_type": "code",
   "execution_count": 33,
   "id": "912438a6-e0a5-41f4-8cbb-95e9464aeb20",
   "metadata": {
    "tags": []
   },
   "outputs": [
    {
     "name": "stdout",
     "output_type": "stream",
     "text": [
      "Estimated beta coefficients:\n",
      " [[0.50319339 1.99808012 1.49934221]\n",
      " [0.9862687  0.50932679 3.00657509]]\n"
     ]
    }
   ],
   "source": [
    "# estimate \n",
    "b = np.linalg.lstsq(T.T@X,T.T@y,rcond=None)[0]\n",
    "\n",
    "# Print the estimated beta coefficients\n",
    "print(\"Estimated beta coefficients:\\n\", b)"
   ]
  },
  {
   "cell_type": "code",
   "execution_count": 52,
   "id": "7aee2e24-ca1e-4461-9c12-510ec2cd7e52",
   "metadata": {
    "tags": []
   },
   "outputs": [
    {
     "name": "stdout",
     "output_type": "stream",
     "text": [
      "Covariance matrix of estimated beta coefficients:\n",
      " [[ 2.49711363e-32 -1.05442807e-31 -1.52408259e-31  6.43557202e-31\n",
      "   6.69625716e-32 -2.82755315e-31]\n",
      " [-1.51062209e-31  3.49852821e-31  9.21989611e-31 -2.13528365e-30\n",
      "  -4.05088254e-31  9.38164939e-31]\n",
      " [ 6.63761362e-32  2.56323925e-31 -4.05118582e-31 -1.56444155e-30\n",
      "   1.77994174e-31  6.87357955e-31]\n",
      " [-1.06286518e-31  4.48804119e-31  3.52521541e-31 -1.48855304e-30\n",
      "   2.58970131e-31 -1.09352403e-30]\n",
      " [ 6.42977398e-31 -1.48910477e-30 -2.13256947e-30  4.93892845e-30\n",
      "  -1.56663275e-30  3.62824621e-30]\n",
      " [-2.82521721e-31 -1.09101073e-30  9.37042574e-31  3.61856601e-30\n",
      "   6.88372225e-31  2.65827872e-30]]\n"
     ]
    }
   ],
   "source": [
    "e = y - X@b\n",
    "\n",
    "TXplus = np.linalg.pinv(T.T@X) # Moore-Penrose pseudo-inverse\n",
    "\n",
    "# Covariance matrix of b\n",
    "vb = np.kron(TXplus@T.T@e,e.T@T@TXplus.T) # here we need Kronecker product\n",
    "\n",
    "print(\"Covariance matrix of estimated beta coefficients:\\n\",vb)"
   ]
  },
  {
   "cell_type": "markdown",
   "id": "8131ce18-64a3-4214-96b6-1c4b6bf63613",
   "metadata": {
    "tags": []
   },
   "source": [
    "Hence we could still use the estimator to estimate beta, however we need to change a little bit to estimate the variance here."
   ]
  },
  {
   "cell_type": "markdown",
   "id": "2d3ee508-d45b-47ae-bde5-23061658e02a",
   "metadata": {
    "tags": []
   },
   "source": [
    "## Exercise Six"
   ]
  },
  {
   "cell_type": "code",
   "execution_count": 57,
   "id": "a77a7c2f-4995-4ff2-a85e-39e4fd179248",
   "metadata": {
    "tags": []
   },
   "outputs": [],
   "source": [
    "# Set the number of observations (N), number of dependent variables (k), and number of independent variables (p)\n",
    "k = 3\n",
    "m = 2\n",
    "\n",
    "# Mean vector and covariance matrix for the multivariate normal distribution\n",
    "mu = [0] * m\n",
    "Sigma1 = [[1, 0.5],\n",
    "         [0.5, 2]]\n",
    "Sigma2 = [[1, 0.5, 0],\n",
    "          [0.5, 2, 0],\n",
    "          [0, 0, 3]]\n",
    "\n",
    "# Define the multivariate normal distributions for T and u\n",
    "T_distribution = multivariate_normal(mean=mu, cov=Sigma1)\n",
    "u_distribution = multivariate_normal(mean=np.zeros(k), cov=Sigma2)"
   ]
  },
  {
   "cell_type": "markdown",
   "id": "79e5702d-0313-4ea3-9bb4-dbd2d492f358",
   "metadata": {},
   "source": [
    "Let $X = T$."
   ]
  },
  {
   "cell_type": "code",
   "execution_count": 58,
   "id": "c7f1638e-2c92-4018-beb1-74895d99bc3d",
   "metadata": {
    "tags": []
   },
   "outputs": [],
   "source": [
    "# observations realization\n",
    "N = 1000\n",
    "\n",
    "# Generate samples for T and u\n",
    "T = T_distribution.rvs(size=N)\n",
    "u = u_distribution.rvs(size=N)  # u is now N x k\n",
    "\n",
    "# Generate the design matrix X\n",
    "X = T\n",
    "\n",
    "# Generate the true beta coefficients for simulation purposes\n",
    "beta_true = np.array([[0.5,2,1.5], [1,0.5,3]])\n",
    "\n",
    "# Generate the response matrix y (since we have k variables)\n",
    "y = X @ beta_true + u"
   ]
  },
  {
   "cell_type": "code",
   "execution_count": 59,
   "id": "fe6209bd-f910-40e8-a712-d0cf6b50696e",
   "metadata": {
    "tags": []
   },
   "outputs": [
    {
     "name": "stdout",
     "output_type": "stream",
     "text": [
      "Estimated beta coefficients:\n",
      " [[0.43078477 1.98314783 1.57390801]\n",
      " [1.03709713 0.51429004 2.94095903]]\n"
     ]
    }
   ],
   "source": [
    "# estimate \n",
    "b = np.linalg.lstsq(T.T@X,T.T@y,rcond=None)[0]\n",
    "\n",
    "# Print the estimated beta coefficients\n",
    "print(\"Estimated beta coefficients:\\n\", b)"
   ]
  },
  {
   "cell_type": "code",
   "execution_count": 60,
   "id": "e80477b5-c6d0-41fc-99fa-086d294cb528",
   "metadata": {
    "tags": []
   },
   "outputs": [
    {
     "name": "stdout",
     "output_type": "stream",
     "text": [
      "Covariance matrix of estimated beta coefficients:\n",
      " [[ 5.20404850e-32 -3.92316901e-33 -2.16449869e-31  1.63174770e-32\n",
      "   2.97594477e-31 -2.24347146e-32]\n",
      " [-2.33065007e-31  8.33974694e-32  9.69377787e-31 -3.46871697e-31\n",
      "  -1.33278656e-30  4.76909973e-31]\n",
      " [ 3.11808262e-31 -1.17741858e-31 -1.29689140e-30  4.89718915e-31\n",
      "   1.78308132e-30 -6.73308998e-31]\n",
      " [-1.34919776e-33  1.01711789e-34  7.61333021e-32 -5.73945096e-33\n",
      "  -1.12561642e-31  8.48566926e-33]\n",
      " [ 6.04242610e-33 -2.16215661e-33 -3.40965473e-31  1.22007409e-31\n",
      "   5.04110978e-31 -1.80385637e-31]\n",
      " [-8.08391790e-33  3.05256670e-33  4.56163939e-31 -1.72251978e-31\n",
      "  -6.74429722e-31  2.54671279e-31]]\n"
     ]
    }
   ],
   "source": [
    "e = y - X@b\n",
    "\n",
    "TXplus = np.linalg.pinv(T.T@X) # Moore-Penrose pseudo-inverse\n",
    "\n",
    "# Covariance matrix of b\n",
    "vb = np.kron(TXplus@T.T@e,e.T@T@TXplus.T) # here we need Kronecker product\n",
    "\n",
    "print(\"Covariance matrix of estimated beta coefficients:\\n\",vb)"
   ]
  },
  {
   "cell_type": "code",
   "execution_count": null,
   "id": "8cb8803f-4965-46c7-83b8-40a61cfe8ed9",
   "metadata": {},
   "outputs": [],
   "source": []
  }
 ],
 "metadata": {
  "kernelspec": {
   "display_name": "Python 3 (ipykernel)",
   "language": "python",
   "name": "python3"
  },
  "language_info": {
   "codemirror_mode": {
    "name": "ipython",
    "version": 3
   },
   "file_extension": ".py",
   "mimetype": "text/x-python",
   "name": "python",
   "nbconvert_exporter": "python",
   "pygments_lexer": "ipython3",
   "version": "3.11.4"
  }
 },
 "nbformat": 4,
 "nbformat_minor": 5
}
